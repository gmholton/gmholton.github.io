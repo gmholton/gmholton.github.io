{
 "cells": [
  {
   "cell_type": "markdown",
   "metadata": {},
   "source": [
    "# Publications markdown generator for academicpages\n",
    "\n",
    "Takes a TSV of publications with metadata and converts them for use with [academicpages.github.io](academicpages.github.io). This is an interactive Jupyter notebook ([see more info here](http://jupyter-notebook-beginner-guide.readthedocs.io/en/latest/what_is_jupyter.html)). The core python code is also in `publications.py`. Run either from the `markdown_generator` folder after replacing `publications.tsv` with one containing your data.\n",
    "\n",
    "TODO: Make this work with BibTex and other databases of citations, rather than Stuart's non-standard TSV format and citation style.\n"
   ]
  },
  {
   "cell_type": "markdown",
   "metadata": {},
   "source": [
    "## Data format\n",
    "\n",
    "The TSV needs to have the following columns: pub_date, title, venue, excerpt, citation, site_url, and paper_url, with a header at the top. \n",
    "\n",
    "- `excerpt` and `paper_url` can be blank, but the others must have values. \n",
    "- `pub_date` must be formatted as YYYY-MM-DD.\n",
    "- `url_slug` will be the descriptive part of the .md file and the permalink URL for the page about the paper. The .md file will be `YYYY-MM-DD-[url_slug].md` and the permalink will be `https://[yourdomain]/publications/YYYY-MM-DD-[url_slug]`\n",
    "\n",
    "This is how the raw file looks (it doesn't look pretty, use a spreadsheet or other program to edit and create)."
   ]
  },
  {
   "cell_type": "code",
   "execution_count": 1,
   "metadata": {},
   "outputs": [
    {
     "name": "stdout",
     "output_type": "stream",
     "text": [
      "pub_date\ttitle\tvenue\texcerpt\tcitation\turl_slug\tpaper_url\n",
      "2015\tEast is not a ‘big bird’: The etymology of the star Altair in the Carolinian sidereal compass.\tOceanic Linguistics 54(2).579-588\tAbout\tHolton, Gary, Calistus Hachibmai, Ali Haleyalur, Jerry Lipka, and Donald Rubinstein. 2015. East is not a ‘big bird’: The etymology of the star Altair in the Carolinian sidereal compass. <i>Oceanic Linguistics</i> 54(2).579-588\thttp://doi.org/10.1353/ol.2015.0021\n",
      "2010-10-01\tPaper Title Number 2\tJournal 1\tThis paper is about the number 2. The number 3 is left for future work.\tYour Name, You. (2010). \"Paper Title Number 2.\" <i>Journal 1</i>. 1(2).\tpaper-title-number-2\thttp://academicpages.github.io/files/paper2.pdf\n",
      "2015-10-01\tPaper Title Number 3\tJournal 1\tThis paper is about the number 3. The number 4 is left for future work.\tYour Name, You. (2015). \"Paper Title Number 3.\" <i>Journal 1</i>. 1(3).\tpaper-title-number-3\thttp://academicpages.github.io/files/paper3.pdf\n"
     ]
    }
   ],
   "source": [
    "!cat publications.tsv"
   ]
  },
  {
   "cell_type": "markdown",
   "metadata": {},
   "source": [
    "## Import pandas\n",
    "\n",
    "We are using the very handy pandas library for dataframes."
   ]
  },
  {
   "cell_type": "code",
   "execution_count": 1,
   "metadata": {},
   "outputs": [],
   "source": [
    "import pandas as pd"
   ]
  },
  {
   "cell_type": "markdown",
   "metadata": {},
   "source": [
    "## Import TSV\n",
    "\n",
    "Pandas makes this easy with the read_csv function. We are using a TSV, so we specify the separator as a tab, or `\\t`.\n",
    "\n",
    "I found it important to put this data in a tab-separated values format, because there are a lot of commas in this kind of data and comma-separated values can get messed up. However, you can modify the import statement, as pandas also has read_excel(), read_json(), and others."
   ]
  },
  {
   "cell_type": "code",
   "execution_count": 14,
   "metadata": {},
   "outputs": [
    {
     "data": {
      "text/html": [
       "<div>\n",
       "<style scoped>\n",
       "    .dataframe tbody tr th:only-of-type {\n",
       "        vertical-align: middle;\n",
       "    }\n",
       "\n",
       "    .dataframe tbody tr th {\n",
       "        vertical-align: top;\n",
       "    }\n",
       "\n",
       "    .dataframe thead th {\n",
       "        text-align: right;\n",
       "    }\n",
       "</style>\n",
       "<table border=\"1\" class=\"dataframe\">\n",
       "  <thead>\n",
       "    <tr style=\"text-align: right;\">\n",
       "      <th></th>\n",
       "      <th>pub_date</th>\n",
       "      <th>title</th>\n",
       "      <th>venue</th>\n",
       "      <th>description</th>\n",
       "      <th>citation</th>\n",
       "      <th>url_slug</th>\n",
       "      <th>paper_url</th>\n",
       "      <th>pub_file</th>\n",
       "      <th>image</th>\n",
       "    </tr>\n",
       "  </thead>\n",
       "  <tbody>\n",
       "    <tr>\n",
       "      <td>0</td>\n",
       "      <td>2015-12-01</td>\n",
       "      <td>East is not a ‘big bird’: The etymology of the...</td>\n",
       "      <td>Oceanic Linguistics</td>\n",
       "      <td>We argue that the Micronesian constellation ce...</td>\n",
       "      <td>Holton, Gary, Calistus Hachibmai, Ali Haleyalu...</td>\n",
       "      <td>2015-big-bird</td>\n",
       "      <td>http://doi.org/10.1353/ol.2015.0021</td>\n",
       "      <td>NaN</td>\n",
       "      <td>NaN</td>\n",
       "    </tr>\n",
       "    <tr>\n",
       "      <td>1</td>\n",
       "      <td>2019-03-01</td>\n",
       "      <td>Language and Toponymy in Alaska and Beyond</td>\n",
       "      <td>University of Hawai‘i Press</td>\n",
       "      <td>It is difficult to imagine place names researc...</td>\n",
       "      <td>Holton, Gary and Thomas F. Thornton. 2019. &lt;i&gt;...</td>\n",
       "      <td>2019-language-and-toponymy</td>\n",
       "      <td>https://nflrc.hawaii.edu/ldc/sp-17/</td>\n",
       "      <td>NaN</td>\n",
       "      <td>ldc-sp17-cover.png</td>\n",
       "    </tr>\n",
       "    <tr>\n",
       "      <td>2</td>\n",
       "      <td>2018-12-31</td>\n",
       "      <td>Reflections on Language Documentation 20 Years...</td>\n",
       "      <td>University of Hawai‘i Press</td>\n",
       "      <td>This volume reflects on key issues in the fiel...</td>\n",
       "      <td>McDonnell, Bradley, Andrea Berez-Kroeker, and ...</td>\n",
       "      <td>2018-reflections-on-language-documentation</td>\n",
       "      <td>https://nflrc.hawaii.edu/ldc/sp-15/</td>\n",
       "      <td>NaN</td>\n",
       "      <td>ldc-sp15-cover.png</td>\n",
       "    </tr>\n",
       "    <tr>\n",
       "      <td>3</td>\n",
       "      <td>2017-03-30</td>\n",
       "      <td>A unified system of spatial orientation in the...</td>\n",
       "      <td>NUSA</td>\n",
       "      <td>The Austronesian and non-Austronesian language...</td>\n",
       "      <td>Holton, Gary. 2017. A unified system of spatia...</td>\n",
       "      <td>2017-halmahera-orientation</td>\n",
       "      <td>http://hdl.handle.net/10108/89846</td>\n",
       "      <td>NaN</td>\n",
       "      <td>NaN</td>\n",
       "    </tr>\n",
       "    <tr>\n",
       "      <td>4</td>\n",
       "      <td>2017-01-01</td>\n",
       "      <td>The Papuan Languages of East Nusantara</td>\n",
       "      <td>The Languages and Linguistics of the New Guine...</td>\n",
       "      <td>NaN</td>\n",
       "      <td>Holton, Gary and Marian Klamer. 2017. The Papu...</td>\n",
       "      <td>2017-papuan-east-nusantara</td>\n",
       "      <td>NaN</td>\n",
       "      <td>NaN</td>\n",
       "      <td>NaN</td>\n",
       "    </tr>\n",
       "    <tr>\n",
       "      <td>5</td>\n",
       "      <td>2018-01-01</td>\n",
       "      <td>Interdisciplinary language documentation</td>\n",
       "      <td>Oxford Handbook of Endangered Languages</td>\n",
       "      <td>NaN</td>\n",
       "      <td>Holton, Gary. 2018. Interdisciplinary language...</td>\n",
       "      <td>2018-interdisciplinary-language-documentation</td>\n",
       "      <td>NaN</td>\n",
       "      <td>NaN</td>\n",
       "      <td>NaN</td>\n",
       "    </tr>\n",
       "    <tr>\n",
       "      <td>6</td>\n",
       "      <td>2020-04-01</td>\n",
       "      <td>Variation in spatial orientation systems acros...</td>\n",
       "      <td>Linguistics Vanguard</td>\n",
       "      <td>NaN</td>\n",
       "      <td>Holton, Gary and Leah Pappas. in review. Varia...</td>\n",
       "      <td>2020-spatial-variation</td>\n",
       "      <td>NaN</td>\n",
       "      <td>NaN</td>\n",
       "      <td>NaN</td>\n",
       "    </tr>\n",
       "    <tr>\n",
       "      <td>7</td>\n",
       "      <td>2020-01-01</td>\n",
       "      <td>Spatial orientation in the Malayo-Polynesian l...</td>\n",
       "      <td>The Oxford Guide to the Malayo-Polynesian Lang...</td>\n",
       "      <td>NaN</td>\n",
       "      <td>Pappas, Leah and Gary Holton. to appear. Spati...</td>\n",
       "      <td>2020-MP-space</td>\n",
       "      <td>NaN</td>\n",
       "      <td>NaN</td>\n",
       "      <td>NaN</td>\n",
       "    </tr>\n",
       "    <tr>\n",
       "      <td>8</td>\n",
       "      <td>2014-03-12</td>\n",
       "      <td>Linguistic phylogenies support back-migration ...</td>\n",
       "      <td>PLoS ONE</td>\n",
       "      <td>Recent arguments connecting Na-Dene languages ...</td>\n",
       "      <td>Sicoli, Mark and Gary Holton. 2014. Linguistic...</td>\n",
       "      <td>2014-dy-phylogeny</td>\n",
       "      <td>http://doi.org/10.1371/journal.pone.0091722]</td>\n",
       "      <td>NaN</td>\n",
       "      <td>neighbornet.png</td>\n",
       "    </tr>\n",
       "    <tr>\n",
       "      <td>9</td>\n",
       "      <td>2020-08-12</td>\n",
       "      <td>People, ethics, and data</td>\n",
       "      <td>Open Handbook of Linguistic Data Management</td>\n",
       "      <td>NaN</td>\n",
       "      <td>Holton, Gary, Wesley Y. Leonard, and Peter L. ...</td>\n",
       "      <td>2020-data-ethics</td>\n",
       "      <td>NaN</td>\n",
       "      <td>NaN</td>\n",
       "      <td>NaN</td>\n",
       "    </tr>\n",
       "    <tr>\n",
       "      <td>10</td>\n",
       "      <td>2019-12-31</td>\n",
       "      <td>Sense of place in North America</td>\n",
       "      <td>The Languages and Linguistics of North America...</td>\n",
       "      <td>NaN</td>\n",
       "      <td>Holton, Gary and Andrea L. Berez-Kroeker. to a...</td>\n",
       "      <td>2020-sense-of-place</td>\n",
       "      <td>NaN</td>\n",
       "      <td>NaN</td>\n",
       "      <td>NaN</td>\n",
       "    </tr>\n",
       "  </tbody>\n",
       "</table>\n",
       "</div>"
      ],
      "text/plain": [
       "      pub_date                                              title  \\\n",
       "0   2015-12-01  East is not a ‘big bird’: The etymology of the...   \n",
       "1   2019-03-01         Language and Toponymy in Alaska and Beyond   \n",
       "2   2018-12-31  Reflections on Language Documentation 20 Years...   \n",
       "3   2017-03-30  A unified system of spatial orientation in the...   \n",
       "4   2017-01-01             The Papuan Languages of East Nusantara   \n",
       "5   2018-01-01           Interdisciplinary language documentation   \n",
       "6   2020-04-01  Variation in spatial orientation systems acros...   \n",
       "7   2020-01-01  Spatial orientation in the Malayo-Polynesian l...   \n",
       "8   2014-03-12  Linguistic phylogenies support back-migration ...   \n",
       "9   2020-08-12                           People, ethics, and data   \n",
       "10  2019-12-31                    Sense of place in North America   \n",
       "\n",
       "                                                venue  \\\n",
       "0                                 Oceanic Linguistics   \n",
       "1                         University of Hawai‘i Press   \n",
       "2                         University of Hawai‘i Press   \n",
       "3                                                NUSA   \n",
       "4   The Languages and Linguistics of the New Guine...   \n",
       "5             Oxford Handbook of Endangered Languages   \n",
       "6                                Linguistics Vanguard   \n",
       "7   The Oxford Guide to the Malayo-Polynesian Lang...   \n",
       "8                                            PLoS ONE   \n",
       "9         Open Handbook of Linguistic Data Management   \n",
       "10  The Languages and Linguistics of North America...   \n",
       "\n",
       "                                          description  \\\n",
       "0   We argue that the Micronesian constellation ce...   \n",
       "1   It is difficult to imagine place names researc...   \n",
       "2   This volume reflects on key issues in the fiel...   \n",
       "3   The Austronesian and non-Austronesian language...   \n",
       "4                                                 NaN   \n",
       "5                                                 NaN   \n",
       "6                                                 NaN   \n",
       "7                                                 NaN   \n",
       "8   Recent arguments connecting Na-Dene languages ...   \n",
       "9                                                 NaN   \n",
       "10                                                NaN   \n",
       "\n",
       "                                             citation  \\\n",
       "0   Holton, Gary, Calistus Hachibmai, Ali Haleyalu...   \n",
       "1   Holton, Gary and Thomas F. Thornton. 2019. <i>...   \n",
       "2   McDonnell, Bradley, Andrea Berez-Kroeker, and ...   \n",
       "3   Holton, Gary. 2017. A unified system of spatia...   \n",
       "4   Holton, Gary and Marian Klamer. 2017. The Papu...   \n",
       "5   Holton, Gary. 2018. Interdisciplinary language...   \n",
       "6   Holton, Gary and Leah Pappas. in review. Varia...   \n",
       "7   Pappas, Leah and Gary Holton. to appear. Spati...   \n",
       "8   Sicoli, Mark and Gary Holton. 2014. Linguistic...   \n",
       "9   Holton, Gary, Wesley Y. Leonard, and Peter L. ...   \n",
       "10  Holton, Gary and Andrea L. Berez-Kroeker. to a...   \n",
       "\n",
       "                                         url_slug  \\\n",
       "0                                   2015-big-bird   \n",
       "1                      2019-language-and-toponymy   \n",
       "2      2018-reflections-on-language-documentation   \n",
       "3                      2017-halmahera-orientation   \n",
       "4                      2017-papuan-east-nusantara   \n",
       "5   2018-interdisciplinary-language-documentation   \n",
       "6                          2020-spatial-variation   \n",
       "7                                   2020-MP-space   \n",
       "8                               2014-dy-phylogeny   \n",
       "9                                2020-data-ethics   \n",
       "10                            2020-sense-of-place   \n",
       "\n",
       "                                        paper_url  pub_file  \\\n",
       "0             http://doi.org/10.1353/ol.2015.0021       NaN   \n",
       "1             https://nflrc.hawaii.edu/ldc/sp-17/       NaN   \n",
       "2             https://nflrc.hawaii.edu/ldc/sp-15/       NaN   \n",
       "3               http://hdl.handle.net/10108/89846       NaN   \n",
       "4                                             NaN       NaN   \n",
       "5                                             NaN       NaN   \n",
       "6                                             NaN       NaN   \n",
       "7                                             NaN       NaN   \n",
       "8   http://doi.org/10.1371/journal.pone.0091722]        NaN   \n",
       "9                                             NaN       NaN   \n",
       "10                                            NaN       NaN   \n",
       "\n",
       "                 image  \n",
       "0                  NaN  \n",
       "1   ldc-sp17-cover.png  \n",
       "2   ldc-sp15-cover.png  \n",
       "3                  NaN  \n",
       "4                  NaN  \n",
       "5                  NaN  \n",
       "6                  NaN  \n",
       "7                  NaN  \n",
       "8      neighbornet.png  \n",
       "9                  NaN  \n",
       "10                 NaN  "
      ]
     },
     "execution_count": 14,
     "metadata": {},
     "output_type": "execute_result"
    }
   ],
   "source": [
    "publications = pd.read_csv(\"publications.tsv\", sep=\"\\t\", header=0)\n",
    "publications\n"
   ]
  },
  {
   "cell_type": "markdown",
   "metadata": {},
   "source": [
    "## Escape special characters\n",
    "\n",
    "YAML is very picky about how it takes a valid string, so we are replacing single and double quotes (and ampersands) with their HTML encoded equivilents. This makes them look not so readable in raw format, but they are parsed and rendered nicely."
   ]
  },
  {
   "cell_type": "code",
   "execution_count": 8,
   "metadata": {},
   "outputs": [],
   "source": [
    "html_escape_table = {\n",
    "    \"&\": \"&amp;\",\n",
    "    '\"': \"&quot;\",\n",
    "    \"'\": \"&apos;\"\n",
    "    }\n",
    "\n",
    "def html_escape(text):\n",
    "    \"\"\"Produce entities within text.\"\"\"\n",
    "    return \"\".join(html_escape_table.get(c,c) for c in text)"
   ]
  },
  {
   "cell_type": "markdown",
   "metadata": {},
   "source": [
    "## Creating the markdown files\n",
    "\n",
    "This is where the heavy lifting is done. This loops through all the rows in the TSV dataframe, then starts to concatentate a big string (```md```) that contains the markdown for each type. It does the YAML metadata first, then does the description for the individual page."
   ]
  },
  {
   "cell_type": "code",
   "execution_count": 22,
   "metadata": {},
   "outputs": [
    {
     "name": "stdout",
     "output_type": "stream",
     "text": [
      "3\n",
      "3\n",
      "3\n",
      "3\n",
      "3\n",
      "3\n",
      "3\n",
      "3\n",
      "3\n",
      "3\n",
      "3\n"
     ]
    }
   ],
   "source": [
    "import os\n",
    "for row, item in publications.iterrows():\n",
    "    print(len(str(item.pub_file)))"
   ]
  },
  {
   "cell_type": "code",
   "execution_count": null,
   "metadata": {},
   "outputs": [],
   "source": []
  },
  {
   "cell_type": "code",
   "execution_count": null,
   "metadata": {},
   "outputs": [],
   "source": []
  },
  {
   "cell_type": "code",
   "execution_count": null,
   "metadata": {},
   "outputs": [],
   "source": []
  },
  {
   "cell_type": "code",
   "execution_count": null,
   "metadata": {},
   "outputs": [],
   "source": []
  },
  {
   "cell_type": "code",
   "execution_count": null,
   "metadata": {},
   "outputs": [],
   "source": []
  },
  {
   "cell_type": "code",
   "execution_count": null,
   "metadata": {},
   "outputs": [],
   "source": []
  },
  {
   "cell_type": "code",
   "execution_count": 25,
   "metadata": {},
   "outputs": [],
   "source": [
    "import os\n",
    "for row, item in publications.iterrows():\n",
    "\n",
    "    md_filename = str(item.pub_date) + \"-\" + item.url_slug + \".md\"\n",
    "    html_filename = str(item.pub_date) + \"-\" + item.url_slug\n",
    "    year = item.pub_date[:4]\n",
    "\n",
    "    ## YAML variables\n",
    "\n",
    "    md = \"---\\ntitle: \\\"\"   + item.title + '\"\\n'\n",
    "\n",
    "    md += \"\"\"collection: publications\"\"\"\n",
    "\n",
    "    md += \"\"\"\\npermalink: /publication/\"\"\" + item.url_slug # html_filename\n",
    "\n",
    "    md += \"\\ndate: \" + str(item.pub_date)\n",
    "\n",
    "    md += \"\\nvenue: '\" + html_escape(item.venue) + \"'\"\n",
    "\n",
    "    if len(str(item.paper_url)) > 5:\n",
    "        md += \"\\npaperurl: '\" + item.paper_url + \"'\"\n",
    "\n",
    "    md += \"\\ncitation: '\" + html_escape(item.citation) + \"'\"\n",
    "\n",
    "    md += \"\\n---\"\n",
    "\n",
    "    ## Markdown description for individual page\n",
    "\n",
    "    if len(str(item.description)) > 5:\n",
    "        md += \"\\n\\n\"\n",
    "        if len(str(item.image)) > 5:\n",
    "            md = md + '<img src=\"/images/' + str(item.image) + '\" width=\"200\" align=\"left\" style=\"margin-right: 15px;\">'\n",
    "        md +=  html_escape(item.description) + \"\\n\"\n",
    "\n",
    "\n",
    "    if len(str(item.pub_file)) > 5:\n",
    "        md += \"\\n\\n[Download](/files/\" + item.pub_file + \")\\n\"\n",
    "\n",
    "#    if len(str(item.paper_url)) > 5:\n",
    "#        md += \"\\n\\n[<a href='\" + item.paper_url + \"'>download</a>]\\n\"\n",
    "\n",
    "    # md += \"\\nRecommended citation: \" + item.citation\n",
    "\n",
    "    md_filename = os.path.basename(md_filename)\n",
    "\n",
    "    with open(\"../_publications/\" + md_filename, 'w') as f:\n",
    "        f.write(md)"
   ]
  },
  {
   "cell_type": "code",
   "execution_count": null,
   "metadata": {},
   "outputs": [],
   "source": []
  },
  {
   "cell_type": "code",
   "execution_count": null,
   "metadata": {},
   "outputs": [],
   "source": []
  },
  {
   "cell_type": "code",
   "execution_count": null,
   "metadata": {},
   "outputs": [],
   "source": []
  },
  {
   "cell_type": "code",
   "execution_count": null,
   "metadata": {},
   "outputs": [],
   "source": []
  },
  {
   "cell_type": "code",
   "execution_count": null,
   "metadata": {},
   "outputs": [],
   "source": []
  },
  {
   "cell_type": "markdown",
   "metadata": {},
   "source": [
    "These files are in the publications directory, one directory below where we're working from."
   ]
  },
  {
   "cell_type": "code",
   "execution_count": 10,
   "metadata": {},
   "outputs": [
    {
     "name": "stdout",
     "output_type": "stream",
     "text": [
      "2014-03-12-2014-dy-phylogeny.md\n",
      "2015-12-01-2015-big-bird.md\n",
      "2017-01-01-2017-papuan-east-nusantara.md\n",
      "2017-03-30-2017-halmahera-orientation.md\n",
      "2018-01-01-2018-interdisciplinary-language-documentation.md\n",
      "2018-12-31-2018-reflections-on-language-documentation.md\n",
      "2019-03-01-2019-language-and-toponymy.md\n",
      "2019-12-31-2020-sense-of-place.md\n",
      "2020-01-01-2020-MP-space.md\n",
      "2020-04-01-2020-spatial-variation.md\n",
      "2020-08-12-2020-data-ethics.md\n"
     ]
    }
   ],
   "source": [
    "!ls ../_publications/"
   ]
  },
  {
   "cell_type": "code",
   "execution_count": 11,
   "metadata": {
    "scrolled": true
   },
   "outputs": [
    {
     "name": "stdout",
     "output_type": "stream",
     "text": [
      "cat: ../_publications/2009-10-01-paper-title-number-1.md: No such file or directory\n"
     ]
    }
   ],
   "source": [
    "!cat ../_publications/2009-10-01-paper-title-number-1.md"
   ]
  },
  {
   "cell_type": "code",
   "execution_count": null,
   "metadata": {},
   "outputs": [],
   "source": []
  },
  {
   "cell_type": "code",
   "execution_count": null,
   "metadata": {},
   "outputs": [],
   "source": []
  },
  {
   "cell_type": "code",
   "execution_count": null,
   "metadata": {},
   "outputs": [],
   "source": []
  },
  {
   "cell_type": "code",
   "execution_count": null,
   "metadata": {},
   "outputs": [],
   "source": []
  }
 ],
 "metadata": {
  "kernelspec": {
   "display_name": "Python 3",
   "language": "python",
   "name": "python3"
  },
  "language_info": {
   "codemirror_mode": {
    "name": "ipython",
    "version": 3
   },
   "file_extension": ".py",
   "mimetype": "text/x-python",
   "name": "python",
   "nbconvert_exporter": "python",
   "pygments_lexer": "ipython3",
   "version": "3.7.4"
  }
 },
 "nbformat": 4,
 "nbformat_minor": 4
}
